{
 "cells": [
  {
   "cell_type": "code",
   "execution_count": 1,
   "metadata": {},
   "outputs": [],
   "source": [
    "import mlflow\n"
   ]
  },
  {
   "cell_type": "code",
   "execution_count": 2,
   "metadata": {},
   "outputs": [],
   "source": [
    "mlflow.set_tracking_uri(\"http://localhost:5000\")"
   ]
  },
  {
   "cell_type": "code",
   "execution_count": 3,
   "metadata": {},
   "outputs": [
    {
     "name": "stderr",
     "output_type": "stream",
     "text": [
      "2024/12/13 13:05:52 WARNING mlflow.models.model: Model logged without a signature and input example. Please set `input_example` parameter when logging the model to auto infer the model signature.\n"
     ]
    },
    {
     "name": "stdout",
     "output_type": "stream",
     "text": [
      "Model logged in run ID: 62e47d6c90104516b4f4c49cde438bda\n",
      "🏃 View run bemused-crab-297 at: http://localhost:5000/#/experiments/0/runs/62e47d6c90104516b4f4c49cde438bda\n",
      "🧪 View experiment at: http://localhost:5000/#/experiments/0\n"
     ]
    }
   ],
   "source": [
    "import mlflow\n",
    "import mlflow.sklearn\n",
    "from sklearn.datasets import load_diabetes\n",
    "from sklearn.model_selection import train_test_split\n",
    "from sklearn.linear_model import LinearRegression\n",
    "from sklearn.metrics import mean_squared_error\n",
    "\n",
    "# Step 1: Load the dataset\n",
    "data = load_diabetes()\n",
    "X = data.data\n",
    "y = data.target\n",
    "X_train, X_test, y_train, y_test = train_test_split(X, y, test_size=0.2, random_state=42)\n",
    "\n",
    "# Step 2: Start MLflow run and train a model\n",
    "with mlflow.start_run() as run:\n",
    "    model = LinearRegression()\n",
    "    model.fit(X_train, y_train)\n",
    "    \n",
    "    # Log model\n",
    "    mlflow.sklearn.log_model(model, \"linear_regression_model\")\n",
    "    \n",
    "    # Log metrics\n",
    "    y_pred = model.predict(X_test)\n",
    "    mse = mean_squared_error(y_test, y_pred)\n",
    "    mlflow.log_metric(\"mse\", mse)\n",
    "    \n",
    "    print(f\"Model logged in run ID: {run.info.run_id}\")\n"
   ]
  },
  {
   "cell_type": "code",
   "execution_count": 3,
   "metadata": {},
   "outputs": [
    {
     "data": {
      "text/plain": [
       "<Experiment: artifact_location='mlflow-artifacts:/198535772865876946', creation_time=1734112354916, experiment_id='198535772865876946', last_update_time=1734112354916, lifecycle_stage='active', name='/my-experiment', tags={}>"
      ]
     },
     "execution_count": 3,
     "metadata": {},
     "output_type": "execute_result"
    }
   ],
   "source": [
    "mlflow.set_experiment(\"/my-experiment\")"
   ]
  },
  {
   "cell_type": "code",
   "execution_count": 6,
   "metadata": {},
   "outputs": [
    {
     "name": "stdout",
     "output_type": "stream",
     "text": [
      "🏃 View run aged-perch-625 at: http://localhost:5000/#/experiments/198535772865876946/runs/d58d22df3140415db8f964d81c0c5c82\n",
      "🧪 View experiment at: http://localhost:5000/#/experiments/198535772865876946\n"
     ]
    }
   ],
   "source": [
    "with mlflow.start_run():\n",
    "\tmlflow.log_metric(\"foo\", 1)\n",
    "\tmlflow.log_metric(\"bar\", 2)"
   ]
  },
  {
   "cell_type": "code",
   "execution_count": 8,
   "metadata": {},
   "outputs": [
    {
     "name": "stderr",
     "output_type": "stream",
     "text": [
      "c:\\Users\\raksh\\AppData\\Local\\Programs\\Python\\Python313\\Lib\\site-packages\\sklearn\\linear_model\\_logistic.py:1247: FutureWarning: 'multi_class' was deprecated in version 1.5 and will be removed in 1.7. From then on, it will always use 'multinomial'. Leave it to its default value to avoid this warning.\n",
      "  warnings.warn(\n"
     ]
    }
   ],
   "source": [
    "import pandas as pd\n",
    "from sklearn import datasets\n",
    "from sklearn.linear_model import LogisticRegression\n",
    "from sklearn.metrics import accuracy_score\n",
    "from sklearn.model_selection import train_test_split\n",
    "\n",
    "import mlflow\n",
    "from mlflow.models import infer_signature\n",
    "\n",
    "# Load the Iris dataset\n",
    "X, y = datasets.load_iris(return_X_y=True)\n",
    "\n",
    "# Split the data into training and test sets\n",
    "X_train, X_test, y_train, y_test = train_test_split(X, y, test_size=0.2, random_state=42)\n",
    "\n",
    "# Define the model hyperparameters\n",
    "params = {\"solver\": \"lbfgs\", \"max_iter\": 1000, \"multi_class\": \"auto\", \"random_state\": 8888}\n",
    "\n",
    "# Train the model\n",
    "lr = LogisticRegression(**params)\n",
    "lr.fit(X_train, y_train)\n",
    "\n",
    "# Predict on the test set\n",
    "y_pred = lr.predict(X_test)\n",
    "\n",
    "# Calculate accuracy as a target loss metric\n",
    "accuracy = accuracy_score(y_test, y_pred)"
   ]
  },
  {
   "cell_type": "code",
   "execution_count": 9,
   "metadata": {},
   "outputs": [
    {
     "name": "stderr",
     "output_type": "stream",
     "text": [
      "2024/12/13 11:10:19 INFO mlflow.tracking.fluent: Experiment with name '/assign11-experiment' does not exist. Creating a new experiment.\n"
     ]
    },
    {
     "data": {
      "text/plain": [
       "<Experiment: artifact_location='mlflow-artifacts:/276943666252099075', creation_time=1734113419285, experiment_id='276943666252099075', last_update_time=1734113419285, lifecycle_stage='active', name='/assign11-experiment', tags={}>"
      ]
     },
     "execution_count": 9,
     "metadata": {},
     "output_type": "execute_result"
    }
   ],
   "source": [
    "mlflow.set_experiment(\"/assign11-experiment\")"
   ]
  },
  {
   "cell_type": "code",
   "execution_count": 10,
   "metadata": {},
   "outputs": [
    {
     "name": "stderr",
     "output_type": "stream",
     "text": [
      "Successfully registered model 'basic_lr_iris_model'.\n",
      "2024/12/13 11:11:10 INFO mlflow.store.model_registry.abstract_store: Waiting up to 300 seconds for model version to finish creation. Model name: basic_lr_iris_model, version 1\n"
     ]
    },
    {
     "name": "stdout",
     "output_type": "stream",
     "text": [
      "🏃 View run clean-panda-446 at: http://localhost:5000/#/experiments/276943666252099075/runs/bcc63514fce64e11b7eb9df24c6ff5df\n",
      "🧪 View experiment at: http://localhost:5000/#/experiments/276943666252099075\n"
     ]
    },
    {
     "name": "stderr",
     "output_type": "stream",
     "text": [
      "Created version '1' of model 'basic_lr_iris_model'.\n"
     ]
    }
   ],
   "source": [
    "# Start an MLflow run\n",
    "with mlflow.start_run():\n",
    "    # Log the hyperparameters\n",
    "    mlflow.log_params(params)\n",
    "\n",
    "    # Log the loss metric\n",
    "    mlflow.log_metric(\"accuracy\", accuracy)\n",
    "\n",
    "    # Set a tag that we can use to remind ourselves what this run was for\n",
    "    mlflow.set_tag(\"Training Info\", \"Basic LR model for iris data\")\n",
    "\n",
    "    # Infer the model signature\n",
    "    signature = infer_signature(X_train, lr.predict(X_train))\n",
    "\n",
    "    # Log the model\n",
    "    model_info = mlflow.sklearn.log_model(\n",
    "        sk_model=lr,\n",
    "        artifact_path=\"iris_model\",\n",
    "        signature=signature,\n",
    "        input_example=X_train,\n",
    "        registered_model_name=\"basic_lr_iris_model\",\n",
    "    )"
   ]
  },
  {
   "cell_type": "code",
   "execution_count": 11,
   "metadata": {},
   "outputs": [],
   "source": [
    "from mlflow import MlflowClient\n",
    "\n",
    "# Initialize an MLflow Client\n",
    "client = MlflowClient()\n",
    "\n",
    "def assign_alias_to_stage(model_name, stage, alias):\n",
    "    \"\"\"\n",
    "    Assign an alias to the latest version of a registered model within a specified stage.\n",
    "\n",
    "    :param model_name: The name of the registered model.\n",
    "    :param stage: The stage of the model version for which the alias is to be assigned. Can be\n",
    "                \"Production\", \"Staging\", \"Archived\", or \"None\".\n",
    "    :param alias: The alias to assign to the model version.\n",
    "    :return: None\n",
    "    \"\"\"\n",
    "    latest_mv = client.get_latest_versions(model_name, stages=[stage])[0]\n",
    "    client.set_registered_model_alias(model_name, alias, latest_mv.version)"
   ]
  },
  {
   "cell_type": "code",
   "execution_count": 4,
   "metadata": {},
   "outputs": [
    {
     "name": "stdout",
     "output_type": "stream",
     "text": [
      "<RegisteredModel: aliases={'production': '3', 'staging': '2', 'testing': '1'}, creation_timestamp=1734113470129, description='', last_updated_timestamp=1734113849561, latest_versions=[<ModelVersion: aliases=['production'], creation_timestamp=1734113840746, current_stage='None', description='', last_updated_timestamp=1734113840746, name='basic_lr_iris_model', run_id='bcc63514fce64e11b7eb9df24c6ff5df', run_link='', source='models:/basic_lr_iris_model/2', status='READY', status_message='', tags={}, user_id='', version='3'>], name='basic_lr_iris_model', tags={}>\n"
     ]
    }
   ],
   "source": [
    "from mlflow import MlflowClient\n",
    "client = MlflowClient()\n",
    "print(client.get_registered_model(\"basic_lr_iris_model\"))\n"
   ]
  },
  {
   "cell_type": "code",
   "execution_count": 10,
   "metadata": {},
   "outputs": [
    {
     "name": "stdout",
     "output_type": "stream",
     "text": [
      "<RegisteredModel: aliases={}, creation_timestamp=1734117198875, description='', last_updated_timestamp=1734117198909, latest_versions=[<ModelVersion: aliases=[], creation_timestamp=1734117198909, current_stage='None', description='', last_updated_timestamp=1734117198909, name='linear_regression_model', run_id='8d01c574035549b7aace27484be374ac', run_link='', source='mlflow-artifacts:/0/8d01c574035549b7aace27484be374ac/artifacts/linear_regression_model', status='READY', status_message='', tags={}, user_id='', version='1'>], name='linear_regression_model', tags={}>\n"
     ]
    }
   ],
   "source": [
    "print(client.get_registered_model(\"linear_regression_model\"))"
   ]
  },
  {
   "cell_type": "code",
   "execution_count": 6,
   "metadata": {},
   "outputs": [],
   "source": [
    "model_uri = \"models:/basic_lr_iris_model/3\"\n"
   ]
  },
  {
   "cell_type": "code",
   "execution_count": 7,
   "metadata": {},
   "outputs": [],
   "source": [
    "import mlflow\n",
    "\n",
    "model = mlflow.pyfunc.load_model(model_uri)\n"
   ]
  },
  {
   "cell_type": "code",
   "execution_count": 8,
   "metadata": {},
   "outputs": [],
   "source": [
    "mlflow.set_tracking_uri('http://localhost:5000')"
   ]
  },
  {
   "cell_type": "code",
   "execution_count": 11,
   "metadata": {},
   "outputs": [
    {
     "name": "stdout",
     "output_type": "stream",
     "text": [
      "http://localhost:5000\n"
     ]
    }
   ],
   "source": [
    "print(mlflow.get_tracking_uri())\n"
   ]
  },
  {
   "cell_type": "code",
   "execution_count": 2,
   "metadata": {},
   "outputs": [
    {
     "name": "stdout",
     "output_type": "stream",
     "text": [
      "Model Name: basic_lr_iris_model\n",
      " - Version: 3, Status: None\n",
      "Model Name: linear_regression_model\n",
      " - Version: 1, Status: None\n"
     ]
    }
   ],
   "source": [
    "import mlflow\n",
    "mlflow.set_tracking_uri(\"http://127.0.0.1:5000\")\n",
    "client = mlflow.MlflowClient()\n",
    "for rm in client.search_registered_models():\n",
    "    print(f\"Model Name: {rm.name}\")\n",
    "    for version in rm.latest_versions:\n",
    "        print(f\" - Version: {version.version}, Status: {version.current_stage}\")"
   ]
  }
 ],
 "metadata": {
  "kernelspec": {
   "display_name": "Python 3",
   "language": "python",
   "name": "python3"
  },
  "language_info": {
   "codemirror_mode": {
    "name": "ipython",
    "version": 3
   },
   "file_extension": ".py",
   "mimetype": "text/x-python",
   "name": "python",
   "nbconvert_exporter": "python",
   "pygments_lexer": "ipython3",
   "version": "3.13.1"
  }
 },
 "nbformat": 4,
 "nbformat_minor": 2
}
